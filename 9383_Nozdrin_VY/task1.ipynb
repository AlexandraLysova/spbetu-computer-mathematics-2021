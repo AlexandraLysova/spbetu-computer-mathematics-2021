{
 "cells": [
  {
   "cell_type": "markdown",
   "metadata": {},
   "source": [
    "# Практическая работа №1: Исследование алгоритмов формирования аддитивных цепочек  \n",
    "\n",
    "Выполнил студент гр. 9383 Ноздрин Василий, вариант 102.  "
   ]
  },
  {
   "cell_type": "markdown",
   "metadata": {},
   "source": [
    "## Цель работы  \n",
    "\n",
    "Формирование представления о аддитивных цепочках, выработать умение составлять и применять алгоритмы для нахождения минимальных аддитивных цепочек для заданного числа, привить навык использования систем компьютерной алгебры для реализации алгоритмов.  "
   ]
  },
  {
   "cell_type": "markdown",
   "metadata": {},
   "source": [
    "## Основные теоретические положения  \n",
    "\n",
    "**Постановка задачи:** необходимо возвести некоторое число $x$ в степень $n$. Для возведения в степень необходимо использовать операцию умножения. Следующие методы позволяют вычислить $x^n$ быстрее, чем примитивным умножением $x$ на себя $n-1$ раз.  \n",
    "\n",
    "### Бинарный метод\n",
    "\n",
    "$\\nu(n) - $ вес Хэмминга, число ненулевых цифра в двоичной записи числа  \n",
    "$\\lambda(n) = \\lfloor lb(n) \\rfloor$\n",
    "\\begin{equation}\n",
    "    \\lambda(n) =\n",
    "    \\begin{cases}\n",
    "        \\lambda(\\lfloor n/2\\rfloor)+1   & \\text{if $n \\neq 1$}\\\\\n",
    "        0                               & \\text{if $n = 1$}\n",
    "    \\end{cases}\n",
    "    \\quad\\quad\\quad\\quad\n",
    "    \\nu(n) =\n",
    "    \\begin{cases}\n",
    "        \\nu(\\lfloor n/2\\rfloor)+n\\ mod\\ 2 & \\text{if $n \\neq 1$}\\\\\n",
    "        1                               & \\text{if $n = 1$}\n",
    "    \\end{cases}\n",
    "\\end{equation}\n",
    "\n",
    "**Число операций при вычислении степени бинарный методом равно** $\\lambda(n)+\\nu(n)-1$\n",
    "\n",
    "Алгоритм\n",
    "\n",
    "1. Перевести $n$ в двоичную систему счисленеия\n",
    "2. По двоичной записи операциями $x^k \\rightarrow x^{k+1}$ и $x^k \\rightarrow x^{2k}$ получить $x^n$\n",
    "\n",
    "Пример  \n",
    "Пусть $n = 12_{10} = 1100_{2}$  \n",
    "Тогда решение будет следующий:\n",
    "\\begin{equation}\n",
    "\\begin{cases}\n",
    "    x   \\rightarrow x^{2}  & \\text{соответствует 1 старшем разряде} \\\\\n",
    "    x^2 \\rightarrow x^{3}  & \\text{соответствует 1 в третьем разряде} \\\\\n",
    "    x^3 \\rightarrow x^{6}  & \\text{соответствует 0 во втором разряде} \\\\\n",
    "    x^6 \\rightarrow x^{12} & \\text{соответсвует 0 в первом разряде} \\\\\n",
    "\\end{cases}\n",
    "\\end{equation}\n",
    "\n",
    "### Метод множителей  \n",
    "\n",
    "Если мы можем найти $x^i$ за $n$ шагов и $x^j$ за $m$ шагов, то для $k = ij$ можно найти $x^k$ за $m+n$ шагов.\n",
    "Тогда в случае решения общей задачи нахождения $x^k$ выберем $i$ равным наименьшему простому множителю $k$ (случай простого $k$ будет рассмотрен позже). Тогда $j$ будет вычисляться как $j=\\frac{k}{i}$. Далее вычислим $x^i$, например, бинарным методом, и возведем это число в степень $j$. Таким образом $x^k=(x^i)^j$ будет вычисляться за $n+m$ шагов.  \n",
    "В случае, если число $k\\ -$ простое, можно вычислить сначала число $x^{k-1}$, а затем за один шаг получить $x^k$. В таком случае решение будет найдено за $m'+n'+1$ шагов.\n",
    "\n",
    "\n",
    "### Аддитивные цепочки\n",
    "\n",
    "\n",
    "\n",
    "### Алгоритм Брауэра  \n",
    "\n",
    "### Алгоритм Яо  "
   ]
  },
  {
   "cell_type": "markdown",
   "metadata": {},
   "source": [
    "## Постановка задачи  \n",
    "\n",
    "Реализовать точные и приближённые алгоритмы нахождения минимальных аддитивных цепочек с использованием системы компьютерной алгебры SageMath, провести анализ алгоритмов. Полученные результаты содержательно проинтерпретировать.  "
   ]
  },
  {
   "cell_type": "markdown",
   "metadata": {},
   "source": [
    "## Порядок выполнения работы  \n",
    "\n",
    "1. Применить бинарный метод и метод множителей для $x_n$, где $n\\geq30$, для $2-3$ значений $n$ (значения $n$ выбирается студентом самостоятельно). Сравнить количество операций для каждого метода, сделать выводы.  \n",
    "2. Реализовать алгоритм Брауэра (для нечётных вариантов) или алгоритм Яо (для чётных вариантов) для вычисления приближённых аддитивных цепочек для различных чисел при варьировании параметра k, сопоставить длины полученных аддитивных цепочек с минимальной аддитивной цепочкой для заданного числа. Сделать выводы.  \n",
    "3. Реализовать алгоритм дробления вектора индексов для нахождения минимальной звёздной цепочки для заданного числа. Протестировать алгоритм при $n>500$. Указать, сколько времени потребовалось на поиск цепочки и какая цепочка получилась. Сравнить с предыдущими методами, сделать выводы.  \n",
    "4. Проверить следствие **1 теоремы Брауэра** для $n=1\\dots200$ путём построения функции $l(n)$ и аппроксимирующей кривой, полученной с помощью метода наименьших квадратов. Сопоставить функции на одном графике, сделать выводы.  \n",
    "5. Проверить гипотезу Шольца–Брауэра для $1<n\\leq10$ на алгоритме дробления вектора индексов. Сделать выводы.  \n",
    "**Дополнительное необязательное задание:** найти и/или предложить модификации алгоритмов и привести описание модификаций. Реализовать модифицированные алгоритмы и сравнить их мощность.  "
   ]
  },
  {
   "cell_type": "markdown",
   "metadata": {},
   "source": [
    "## Содержание блокнота  \n",
    "\n",
    "1. Цель работы.  \n",
    "2. Основные теоретические положения.  \n",
    "3. Постановка задачи с кратким описанием выполнения работы.  \n",
    "4. Решение задач вычисления степеней бинарным методом и методом множителей.  \n",
    "5. Реализация алгоритма Брауэра/Яо.  \n",
    "6. Реализация метода дробления вектора индексов.  \n",
    "7. Проверка следствия Брауэра.  \n",
    "8. Проверка гипотезы Шольца–Брауэра.  \n",
    "9. Общий вывод по проделанной работе. "
   ]
  },
  {
   "cell_type": "markdown",
   "metadata": {},
   "source": [
    "## Вопросы для самоконтроля\n",
    "\n",
    "1. Бинарный метод, метод множителей. В каком случае бинарный метод будет лучше метода множителей?  \n",
    "2. Определение аддитивной цепочки.  \n",
    "3. Определение шага аддитивной цепочки и их виды.  \n",
    "4. Определение звёздной цепочки. В чём её приемущества/недостатки?  \n",
    "5. Алгоритм Брауэра, алгоритм Яо.  \n",
    "6. Верхние и нижние границы длины минимальной аддитивной цепочки.  \n",
    "7. Оптимизация длины аддитивной цепочки при определённых условиях.  \n",
    "8. Теорема Брауэра.  \n",
    "9. Гипотеза Шольца–Брауэра. "
   ]
  },
  {
   "cell_type": "markdown",
   "metadata": {},
   "source": [
    "## Список литературы:  \n",
    "\n",
    "1. Donald E. Knuth. The Art of Computer Programming V. 2 Seminumerical Algorithms, 1st edition, Addison-Wesly 1969 pp 398-422.  \n",
    "2. Daniel J. Bernstein. \"Pippenger's Exponentiation Algorithm\", URL: [https://cr.yp.to/papers/pippenger.pdf](https://cr.yp.to/papers/pippenger.pdf), 2002.  \n",
    "3. Kenneth B. Stolarsky [\"A lower bound for the Scholz-Brauer problem\"](http://wwwhomes.uni-bielefeld.de/achim/stolarsky_1969.pdf), Canadian Journal of Mathematics, V. 21, 1969 pp 675-683.  \n"
   ]
  },
  {
   "cell_type": "markdown",
   "metadata": {},
   "source": [
    "## Выполнение работы\n",
    "Можно сделать текст курсивом с помощью *звёздочек* или _нижнего подчёркивания_. А можно сделать текст полужирным с помощью **двойных звёздочек** или __двойного нижнего подчёркивания__. _**Даже можно скомбинировать!**_ \n",
    "\n",
    "Для монотонного шрифта используется `символ машинного апострофа` (который находится на клавише Ё).\n",
    "\n",
    "Jupyter Notebook поддерживает формулы $ \\LaTeX $. Попробуем посчитать в SageMath следующий предел:\n",
    "$$\n",
    "  \\lim\\limits_{x \\to 0}\\cfrac{\\sin x}x = 1\n",
    "$$\n",
    "\n",
    "### 1. Сравним Бинарный метод с методом множителей"
   ]
  },
  {
   "cell_type": "code",
   "execution_count": 93,
   "metadata": {},
   "outputs": [],
   "source": [
    "def hamming_weight(n: int):\n",
    "    if n == 1:\n",
    "        return 1\n",
    "    return (n%2) + hamming_weight(n//2)\n",
    "\n",
    "def hamming_weight_functional(n: int):\n",
    "    return list(bin(n)[2:]).count('1')\n",
    "\n",
    "def binary_method(n: int, info:bool=False):\n",
    "    if n < 2:\n",
    "        print('give n > 1')\n",
    "        return\n",
    "    steps = hamming_weight(n) + floor(log(n,2)) - 1\n",
    "    if info:\n",
    "        print(f'lambda({n}) + nu({n}) - 1 = {steps}')\n",
    "    cur = 1\n",
    "    for i in bin(n)[3:]:\n",
    "        if info:\n",
    "            print(f'x^{cur} -> x^{cur*2}')\n",
    "        cur *= 2\n",
    "        if i == '1':\n",
    "            if info:\n",
    "                print(f'x^{cur} -> x^{cur+1}')\n",
    "            cur += 1\n",
    "    return steps"
   ]
  },
  {
   "cell_type": "code",
   "execution_count": 105,
   "metadata": {},
   "outputs": [],
   "source": [
    "def multipliers_method(n: int, info:bool=False):\n",
    "    if n < 2:\n",
    "        print('give n > 1')\n",
    "        return\n",
    "    steps = 0\n",
    "    if n in Primes():\n",
    "        if info:\n",
    "            print(f'{n} is prime. Lets use this method to count {k-1} and then multiply result by base')\n",
    "        return 1 + multipliers_method(n-1, info)\n",
    "    \n",
    "    i = 0\n",
    "    j = 0\n",
    "    for x in Primes()[:n]:\n",
    "        if n % x == 0:\n",
    "            i = x\n",
    "            break\n",
    "    \n",
    "    j = n // i\n",
    "    if n != i*j:\n",
    "        print('oops! n != i*j')\n",
    "        return\n",
    "    \n",
    "    return binary_method(i, info)+binary_method(j, info)\n",
    "    \n",
    "    "
   ]
  },
  {
   "cell_type": "code",
   "execution_count": 87,
   "metadata": {},
   "outputs": [],
   "source": [
    "# limit(sin(x)/x, x = 0)\n",
    "# plot(sin, -2*pi, 2*pi)"
   ]
  },
  {
   "cell_type": "code",
   "execution_count": 111,
   "metadata": {
    "scrolled": false
   },
   "outputs": [],
   "source": [
    "def compare_BM_and_MM(n):\n",
    "    print(f'BM steps = {multipliers_method(n)} \\nMM steps = {binary_method(n)}')"
   ]
  },
  {
   "cell_type": "code",
   "execution_count": 115,
   "metadata": {},
   "outputs": [
    {
     "name": "stdout",
     "output_type": "stream",
     "text": [
      "BM steps = 8 \n",
      "MM steps = 10\n"
     ]
    }
   ],
   "source": [
    "compare_BM_and_MM(63)"
   ]
  },
  {
   "cell_type": "code",
   "execution_count": 113,
   "metadata": {},
   "outputs": [
    {
     "name": "stdout",
     "output_type": "stream",
     "text": [
      "BM steps = 6 \n",
      "MM steps = 6\n"
     ]
    }
   ],
   "source": [
    "compare_BM_and_MM(64)"
   ]
  },
  {
   "cell_type": "code",
   "execution_count": 114,
   "metadata": {},
   "outputs": [
    {
     "name": "stdout",
     "output_type": "stream",
     "text": [
      "BM steps = 8 \n",
      "MM steps = 7\n"
     ]
    }
   ],
   "source": [
    "compare_BM_and_MM(65)"
   ]
  },
  {
   "cell_type": "markdown",
   "metadata": {},
   "source": [
    "### Алгоритм Яо"
   ]
  },
  {
   "cell_type": "code",
   "execution_count": null,
   "metadata": {},
   "outputs": [],
   "source": []
  },
  {
   "cell_type": "code",
   "execution_count": null,
   "metadata": {},
   "outputs": [],
   "source": []
  },
  {
   "cell_type": "markdown",
   "metadata": {},
   "source": [
    "## Выводы  \n",
    "\n",
    "В ходе выполнения практической работы были получены навыки работы с SageMath и оформления отчётов в Jupyter Notebook.  "
   ]
  }
 ],
 "metadata": {
  "kernelspec": {
   "display_name": "SageMath 9.2",
   "language": "sage",
   "name": "sagemath"
  },
  "language_info": {
   "codemirror_mode": {
    "name": "ipython",
    "version": 3
   },
   "file_extension": ".py",
   "mimetype": "text/x-python",
   "name": "python",
   "nbconvert_exporter": "python",
   "pygments_lexer": "ipython3",
   "version": "3.9.2"
  }
 },
 "nbformat": 4,
 "nbformat_minor": 4
}
