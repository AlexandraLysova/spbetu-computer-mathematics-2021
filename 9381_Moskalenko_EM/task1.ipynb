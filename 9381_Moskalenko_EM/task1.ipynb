{
 "cells": [
  {
   "cell_type": "markdown",
   "metadata": {},
   "source": [
    "## Практическая работа №1: Исследование алгоритмов формирования аддитивных цепочек\n",
    "Выполнила студентка гр. 9381 Москаленко Елизавета, вариант 55."
   ]
  },
  {
   "cell_type": "markdown",
   "metadata": {},
   "source": [
    "### Цель работы\n",
    "Формирование представления о аддитивных цепочках, выработать умение составлять и применять алгоритмы для нахождения минимальных аддитивных цепочек для заданного числа, привить навык использования систем компьютерной алгебры для реализации алгоритмов."
   ]
  },
  {
   "cell_type": "markdown",
   "metadata": {},
   "source": [
    "### Постановка задачи\n",
    "Реализовать точные и приближённые алгоритмы нахождения минимальных аддитивных цепочек с использованием системы компьютерной алгебры SageMath, провести анализ алгоритмов. Полученные результаты содержательно проинтерпретировать."
   ]
  },
  {
   "cell_type": "markdown",
   "metadata": {},
   "source": [
    "### Основные теоритические положения"
   ]
  },
  {
   "cell_type": "markdown",
   "metadata": {},
   "source": [
    "#### Бинарный метод возведения числа в степень\n",
    "Бинарное (двоичное) возведение в степень — это приём, позволяющий возводить любое число в $n$-ую степень за $O(log(n))$ умножений (вместо $n$ умножений при обычном подходе).\n",
    "\n",
    "Запишем $n$ в двоичной системе счисления и заменим в этой записи каждую цифру “1” парой букв $SX$, а каждую цифру “0” – буквой $S$, после чего вычеркнем крайнюю левую пару букв $SX$. Результат, читаемый слева на право, превращается в правило вычисления $x^{n}$, если букву “S” интерпретировать как операцию возведения в квадрат ($S$ – square – квадрат), а букву “$X$ ” – как операцию умножения на $х$.\n",
    "\n",
    "#### Метод множителей\n",
    "Если $n=p·q$, где $р$ – наименьший простой множитель числа $n$ и $q > 1 $, то для вычисления $x^{n}$ мы можем сначала вычислить $x^{p}$, а затем возвести это число в степень $q$. В случае, когда n простое, мы можем вычислить сначала число $x^{n-1}$, а затем умножить его на $х$.\n",
    "\n",
    "Если $n=1$, число $x^{n}$ имеется без всяких вычислений. Многократное применение этих правил дает нам процедуру вычисления $x^{n}$ для любого данного $n$.\n",
    "\n",
    "#### Аддитивная цепочка\n",
    "Аддитивной цепочкой для числа $n$ называется любая начинающаяся с 1 последовательность натуральных чисел $a_{0} = 1, a_{1},..., a_{m} = n$, в которой каждое число является суммой каких-то двух предыдущих чисел (возможно совпадающих), то есть для всех $i \\geqslant 1$ выполнено равенство $n = a_{j} + a_{k}$, $j,k < i$. Под длиной цепочки $a_{0}, a_{1}, ... , a_{m}$ понимается число $m$. Через $l(n)$ обозначим длину кратчайшей аддитивной цепочки для $n$.\n",
    "\n",
    "####  Алгоритм Брауэра\n",
    "Метод Брауэра позволяет по заданной линейной цепочке $a_{0} = 1, a_{1},..., a_{m} = n$ построить аддитивную цепочку для $2^{n-1}$.\n",
    "\n",
    "$$\\begin{equation*}\n",
    "B_{k}(n) = \n",
    " \\begin{cases}\n",
    "       1, 2, 3,... 2^{k}- 1  &\\text{if n $< 2^{k}$}\\\\\n",
    "   B_{k}(q), 2q, 4q, ..., 2^{k}q, n &\\text{if $n \\geqslant 2^{k}$ and $q = [\\frac{n}{2^{k}}]$}\n",
    " \\end{cases}\n",
    "\\end{equation*} $$\n",
    "\n",
    "#### Алгоритм дробления вектора индексов\n",
    "Звёздная цепочка - это аддитивная цепочка, в которой текущий элемент получен сложением предыдущего и какого-то $a_j$, где $a_i=a_{i-1}+a_j$ при $0 \\leq k \\leq i-1$.\n",
    "###### Данный алгоритм находит минимальную звёздную цепочку для числа $n$. \n",
    "Пусть $l^{*}(n) = m$ - звёздная цепочка.  $\\{ a_i \\}_{i=1}^{m}$, $a_1$ = 1, тогда вектор индексов: $\\{ r_i \\}_{i=1}^{m-1}$, где $r_i = \\{x: 1 \\leqslant x \\leqslant i\\}$.\n",
    "\n",
    "Тогда шаг звёздной цепочки: ${a_i}$ = ${a}_{i-1}$ + ${a}_{{r}_{i-1}}$, 2  $\\leqslant  i  \\leqslant  m$.\n",
    "\n",
    "Наибольшая звездная цепочка: $S_{max}=\\{1, 2, 4, \\dots, 2^m\\} <=>$ вектор индексов $r_{max} = \\{1, 2, 3, \\dots, m\\}$\n",
    "Наименьшая звездная цепочка: $S_{min}=\\{1,2,3,\\dots , m\\} <=>$ вектор индексов $r_{min}=\\{1, 1, 1, \\dots, 1\\}$\n",
    "\n",
    "Пусть $r=\\{ r_i \\}_{i=1}^{m}$ больше $\\tilde{r}=\\{ \\tilde{r}_i \\}_{i=1}^{m}$ если $r_1=\\tilde{r}_1; r_2=\\tilde{r}_2; \\dots; r_{i-1}=\\tilde{r}_{i-1};r_i>\\tilde{r}_i$\n",
    "\n",
    "Нахождение минимальной аддитивной цепочки осуществляется с помощью перебора. Каждый вектор индексов разбивать на два: $r=\\{ r_i \\}_{i=1}^{q}$ - фиксированный вектор, $\\rho=\\{ \\rho_j \\}_{j=q+1}^{m}$ - меняющийся вектор. Для фиксированного вектора можно вычислить максимальное и минимальное значение аддитивной цепочки:\n",
    "$$ a_{max}: \\{ r_i \\}_{i=1}^{q} \\cup \\{ q+1, q+2, \\dots, m \\} => a_{max} = a_{q+1} \\cdot 2^{m-q}\\\\\n",
    "a_{min}: \\{ r_i \\}_{i=1}^{q} \\cup \\{ 1, 1, \\dots, 1 \\} => a_{min}=a_{q+1}+m-q $$\n",
    "\n",
    "##### Описание алгоритма\n",
    "Текущий вектор индексов разбивается на два: фиксированный и изменющийся. Для фиксированной части вычисляются $a_{max}$ и $a_{min}$. Если $n \\notin [a_{min}, a_{max}]$, то осуществляется переход к следующему фиксированному вектору(в сторону уменьшения или увеличения), иначе существляется перебор по меняющемуся вектору. Если для заданной длины не нашлось аддитивной цепочки, то необходимо увеличить длину аддитивной цепочки. \n",
    "\n",
    "* Длина аддитивной цепочки: $m \\in [\\underline{l}(n), \\overline{l}(n)]$, где $\\underline{l}(n)=\\lceil log_2 n \\rceil,\\, \\overline{l}(n)=\\lambda(n)+\\nu(n)-1$\n",
    "\n",
    "#### Теорема Брауэра\n",
    "При некотором $k < lb(lb(n))$ справедливо $l(n) < (1 + k^{-1})\\lceil lb n \\rceil + 2^{k-1} - k + 2$.\n",
    "\n",
    "Следствие 1. Если $k = \\lambda(\\lambda(n)) - 2*\\lambda(\\lambda(\\lambda(n)))$, то $\\lim_{n \\to \\infty} \\frac{l(n)}{\\lambda(n)} = 1$  \n",
    "$ \\lambda(n)$ - уменьшенная на 1 длина бинарной записи числа $n$  \n",
    "\n",
    "#### Гипотеза Шольца-Брауэра \n",
    "Для звёздной цепочки:  \n",
    "$l ^ * (2 ^  n- 1) \\leq l ^ * (n) + n - 1$"
   ]
  },
  {
   "cell_type": "markdown",
   "metadata": {},
   "source": [
    "## Порядок выполнения работы\n",
    "1. Применить бинарный метод и метод множителей для $x^n$, где $n \\geqslant 30$, для 2-3 значений n (значения n выбирается студентом самостоятельно). Сравнить количество операций для каждого метода, сделать выводы.\n",
    "\n",
    "2. Реализовать алгоритм Брауэра (для нечётных вариантов) или алгоритм Яо (для чётных вариантов) для вычисления приближённых аддитивных цепочек для различных чисел при варьировании параметра $k$, сопоставить длины полученных аддитивных цепочек с минимальной аддитивной цепочкой для заданного числа. Сделать выводы.\n",
    "\n",
    "3. Реализовать алгоритм дробления вектора индексов для нахождения минимальной звёздной цепочки для заданного числа. Протестировать алгоритм при $n>500$. Указать, сколько времени потребовалось на поиск цепочки и какая цепочка получилась. Сравнить с предыдущими методами, сделать выводы.\n",
    "\n",
    "4. Проверить следствие 1 теоремы Брауэра для $n=1..200$ путём построения функции $l(n)$ и аппроксимирующей кривой, полученной с помощью метода наименьших квадратов. Сопоставить функции на одном графике, сделать выводы.\n",
    "\n",
    "5. Проверить гипотезу Шольца–Брауэра для $1 < n\\leqslant 10$ на алгоритме дробления вектора индексов. Сделать выводы.\n",
    "\n",
    "6. Дополнительное необязательное задание: найти и/или предложить модификации алгоритмов и привести описание модификаций. Реализовать модифицированные алгоритмы и сравнить их мощность.\n",
    "\n",
    "\n",
    "### Бинарный метод и метод множителей\n",
    "Реализованы ниже. Вывод под алгоритмами."
   ]
  },
  {
   "cell_type": "code",
   "execution_count": 2,
   "metadata": {},
   "outputs": [],
   "source": [
    "def binary(number, power):\n",
    "    countOperations = 0\n",
    "    currentNumber = number\n",
    "    \n",
    "    for digit in bin(power)[3:].replace('0', '2'):\n",
    "        if digit == '1':\n",
    "            currentNumber *= currentNumber\n",
    "            currentNumber *= number\n",
    "            countOperations += 2\n",
    "        if digit == '2':\n",
    "            currentNumber *= currentNumber\n",
    "            countOperations += 1\n",
    "            \n",
    "    return [currentNumber, countOperations]"
   ]
  },
  {
   "cell_type": "code",
   "execution_count": 3,
   "metadata": {},
   "outputs": [],
   "source": [
    "def multiplier(x, n):\n",
    "    F = factor(n)\n",
    "    if F[0][0] == n:\n",
    "        res = binary(x, n-1)\n",
    "        res[0] = res[0] * x\n",
    "        res[1] = res[1] + 1\n",
    "        return res\n",
    "    a = binary(x, F[0][0])\n",
    "    b = binary(a[0], n // F[0][0])\n",
    "    return b[0], a[1] + b[1]"
   ]
  },
  {
   "cell_type": "code",
   "execution_count": 4,
   "metadata": {},
   "outputs": [
    {
     "name": "stdout",
     "output_type": "stream",
     "text": [
      "('Binary method. Operations pow(', 13, 16, '):', 4)\n",
      "('Multiplier method. Operations pow(', 13, 16, '):', 4)\n",
      "\n",
      "\n",
      "('Binary method. Operations pow(', 45, 777, '):', 12)\n",
      "('Multiplier method. Operations pow(', 45, 777, '):', 12)\n",
      "\n",
      "\n",
      "('Binary method. Operations pow(', 30, 63, '):', 10)\n",
      "('Multiplier method. Operations pow(', 30, 63, '):', 8)\n",
      "\n",
      "\n",
      "('Binary method. Operations pow(', 85, 1015, '):', 17)\n",
      "('Multiplier method. Operations pow(', 85, 1015, '):', 14)\n",
      "\n",
      "\n",
      "('Binary method. Operations pow(', 63, 1023, '):', 18)\n",
      "('Multiplier method. Operations pow(', 63, 1023, '):', 14)\n",
      "\n",
      "\n",
      "('Binary method. Operations pow(', 63, 46, '):', 8)\n",
      "('Multiplier method. Operations pow(', 63, 46, '):', 8)\n",
      "\n",
      "\n"
     ]
    }
   ],
   "source": [
    "import time\n",
    "number, power = 13, 16\n",
    "result1 = binary(number, power)\n",
    "result2 = multiplier(number, power)\n",
    "\n",
    "print(\"Binary method. Operations pow(\",number, power, \"):\", result1[1])\n",
    "print(\"Multiplier method. Operations pow(\",number, power, \"):\", result2[1])\n",
    "print('\\n')\n",
    "\n",
    "number, power = 45, 777\n",
    "result1 = binary(number, power)\n",
    "result2 = multiplier(number, power)\n",
    "\n",
    "print(\"Binary method. Operations pow(\",number, power, \"):\", result1[1])\n",
    "print(\"Multiplier method. Operations pow(\",number, power, \"):\", result2[1])\n",
    "print('\\n')\n",
    "\n",
    "number, power = 30, 63\n",
    "result1 = binary(number, power)\n",
    "result2 = multiplier(number, power)\n",
    "\n",
    "print(\"Binary method. Operations pow(\",number, power, \"):\", result1[1])\n",
    "print(\"Multiplier method. Operations pow(\",number, power, \"):\", result2[1])\n",
    "print('\\n')\n",
    "\n",
    "number, power = 85, 1015\n",
    "result1 = binary(number, power)\n",
    "result2 = multiplier(number, power)\n",
    "\n",
    "print(\"Binary method. Operations pow(\",number, power, \"):\", result1[1])\n",
    "print(\"Multiplier method. Operations pow(\",number, power, \"):\", result2[1])\n",
    "print('\\n')\n",
    "\n",
    "number, power = 63, 1023\n",
    "result1 = binary(number, power)\n",
    "result2 = multiplier(number, power)\n",
    "\n",
    "print(\"Binary method. Operations pow(\",number, power, \"):\", result1[1])\n",
    "print(\"Multiplier method. Operations pow(\",number, power, \"):\", result2[1])\n",
    "print('\\n')\n",
    "\n",
    "number, power = 63, 46\n",
    "result1 = binary(number, power)\n",
    "result2 = multiplier(number, power)\n",
    "\n",
    "print(\"Binary method. Operations pow(\",number, power, \"):\", result1[1])\n",
    "print(\"Multiplier method. Operations pow(\",number, power, \"):\", result2[1])\n",
    "print('\\n')"
   ]
  },
  {
   "cell_type": "markdown",
   "metadata": {},
   "source": [
    "Binary method. Operations pow( 13, 16):  4\n",
    "Multiplier method. Operations pow( 13, 16):  4\n",
    "\n",
    "\n",
    "Binary method. Operations pow( 45, 777 ): 12\n",
    "Multiplier method. Operations pow( 45, 777):  12\n",
    "\n",
    "\n",
    "Binary method. Operations pow( 30, 63 ):  10\n",
    "Multiplier method. Operations pow( 30, 63 ): 8\n",
    "\n",
    "\n",
    "Binary method. Operations pow( 85, 1015 ): 17\n",
    "Multiplier method. Operations pow( 85, 1015):  14\n",
    "\n",
    "\n",
    "Binary method. Operations pow( 63, 1023 ):  18\n",
    "Multiplier method. Operations pow( 63, 1023 ):  14\n",
    "\n",
    "('Binary method. Operations pow(', 63, 46, '):', 8)\n",
    "('Multiplier method. Operations pow(', 63, 46, '):', 8)\n",
    "\n",
    "\n",
    "Бинарный метод для n = 46:   \n",
    "$n = {101110}_2$  \n",
    "SxSSxSxSxS  \n",
    "$x^2x^4x^5x^{10}x^{11}x^{22}x^{23}x^{46}$   \n",
    "Всего 8 умножений.\n",
    "\n",
    "Метод множителей для n = 46:   \n",
    "p = 2  \n",
    "q = 23  \n",
    "p = $10_2$, КУУ  \n",
    "y = $x^2$  \n",
    "$y^23$ = ...  \n",
    "Дальше действия как в бинарном методе. Всего 8 умножений.\n",
    "\n",
    "Бинарный метод для n = 63:  \n",
    "$n = 111111_2$  \n",
    "SxSxSxSxSxSx  \n",
    "$x^2x^3x^6x^7x^{14}x^{15}x^{30}x^{31}x^{32}x^{63}$\n",
    "Всего 10 умножений.\n",
    "\n",
    "Метод множителей для n = 63:  \n",
    "p = 3  \n",
    "q = 21  \n",
    "y = $x^3 = x^2*x$  \n",
    "$y^21  = y^2y^4y^5y^{10}y^{20}y^{21}$\n",
    "Всего 8 умножений."
   ]
  },
  {
   "cell_type": "markdown",
   "metadata": {},
   "source": [
    "#### Вывод:\n",
    "Исследование показало, что при маленьких числах количество операций методов бинарного и множителей примерно одинаковое. В общем случае наиболее оптимальным является метод множителей. При $n=2^k+1$, где $k\\in \\mathbb{N}$, бинарный метод делает не больше операций, чем метод множителей."
   ]
  },
  {
   "cell_type": "markdown",
   "metadata": {},
   "source": [
    "### Алгоритм Брауэра\n",
    "Реализация представлена ниже."
   ]
  },
  {
   "cell_type": "code",
   "execution_count": 2,
   "metadata": {},
   "outputs": [
    {
     "name": "stdout",
     "output_type": "stream",
     "text": [
      "Enter n: 5\n",
      "Enter k: 2\n",
      "('The length: ', 4)\n",
      "('The Brauer chain: ', [1, 2, 4, 5])\n"
     ]
    }
   ],
   "source": [
    "def brauer(n, k):\n",
    "    list_of_mods = []\n",
    "    power = 2 ** k\n",
    "    check = n\n",
    "    while check >= power:\n",
    "        list_of_mods.append(check % power)\n",
    "        check //= power\n",
    "\n",
    "    list_of_mods.append(check)\n",
    "    list_of_mods.reverse()\n",
    "    current_power = 0\n",
    "    x = 1\n",
    "    chain = []\n",
    "    chain.append(x)\n",
    "    while (x != list_of_mods[current_power]):\n",
    "        x += 1\n",
    "        chain.append(x)\n",
    "\n",
    "    while (x != n):\n",
    "        pow2 = 0\n",
    "        while (pow2 != k):\n",
    "            pow2 += 1\n",
    "            x *= 2\n",
    "            chain.append(x)\n",
    "        current_power += 1\n",
    "        x += list_of_mods[current_power]\n",
    "        chain.append(x)\n",
    "    return chain\n",
    "\n",
    "\n",
    "chain = sorted(list(set(brauer(int(input(\"Enter n: \")), int(input(\"Enter k: \"))))))\n",
    "print(\"The length: \", len(chain))\n",
    "print(\"The Brauer chain: \", chain)"
   ]
  },
  {
   "cell_type": "markdown",
   "metadata": {},
   "source": [
    "| Значение n | Значение k | Полученная длина | Длина минимальной цепочки | \n",
    "| :-: | :-: | :-: | :-: |  :-: |\n",
    "| 27182 | 3 | 21 | 19 | [1, 2, 3, 4, 5, 6, 12, 24, 48, 53, 106, 212, 424, 848, 1696, 3392, 3397, 6794, 13588, 27176, 27182] |\n",
    "|  13 | 2 |  6| 6 | [1, 2, 3, 6, 12, 13] |\n",
    "| 16183 | 5 | 27 | 19 | [1, 2, 3, 4, 5, 6, 7, 8, 9, 10, 11, 12, 13, 14, 15, 30, 60, 120, 240, 480, 505, 1010, 2020, 4040, 8080, 16160, 16183] |\n",
    "\n"
   ]
  },
  {
   "cell_type": "markdown",
   "metadata": {},
   "source": [
    "#### Вывод: \n",
    "Алгоритм выдаёт минимальную цепочку только для небольших чисел при $k = \\lambda(\\lambda(n))$. С ростом $n$ длина цепочки Брауэра будет расти относительно минимальной, так как количество элементов увеличивается до $2^{k}$. Можно сделать вывод, что данный алгоритм эффективен только в некоторых случаях."
   ]
  },
  {
   "cell_type": "markdown",
   "metadata": {},
   "source": [
    "### Алгоритм дробления вектора индексов\n",
    "Реализован ниже."
   ]
  },
  {
   "cell_type": "code",
   "execution_count": 14,
   "metadata": {
    "scrolled": true
   },
   "outputs": [
    {
     "name": "stdout",
     "output_type": "stream",
     "text": [
      "Enter N: 15\n",
      "('Star addition chain:', [1, 2, 3, 5, 10, 15])\n",
      "('Length of addition chain:', 6)\n",
      "('Total work time: ', 0.017323017120361328, 'seconds')\n"
     ]
    }
   ],
   "source": [
    "import time\n",
    "import math\n",
    "\n",
    "\n",
    "def findIndexForVector(vector, index0=1):\n",
    "    maxIndex = index0 + len(vector) - 1\n",
    "    for i in range(1, len(vector) + 1):\n",
    "        vector[-i] += 1\n",
    "        if vector[-i] <= maxIndex:\n",
    "            break\n",
    "        if i == len(vector):\n",
    "            vector.append(1)\n",
    "            break\n",
    "        vector[-i] = 1\n",
    "        maxIndex -= 1\n",
    "\n",
    "\n",
    "def getNewChainUsingIndex(r_i):\n",
    "    add_chain = [1]\n",
    "\n",
    "    for index in r_i:\n",
    "        add_chain.append(add_chain[-1] + add_chain[index - 1])\n",
    "\n",
    "    return add_chain\n",
    "\n",
    "\n",
    "def splittingIndexVector(n):\n",
    "    lower = int(log(n, 2))\n",
    "    upper = lower + bin(n).count('1') - 1\n",
    "\n",
    "    while lower <= upper:\n",
    "        q = int(lower / 2)\n",
    "        if q == 0:\n",
    "            q = 1\n",
    "        listR = [1 for i in range(q)]\n",
    "\n",
    "        while len(listR) == q:\n",
    "            listRo = [1 for i in range(lower - q)]\n",
    "\n",
    "            chain = getNewChainUsingIndex(listR + listRo)\n",
    "            if chain[-1] == n:\n",
    "                return chain\n",
    "\n",
    "            aMax = chain[q] * 2 ** (lower - q)\n",
    "            aMin = chain[q] + lower - q\n",
    "\n",
    "            if aMin > n or aMax < n:\n",
    "                findIndexForVector(listR)\n",
    "                continue\n",
    "\n",
    "            while len(listRo) == lower - q:\n",
    "                chain = getNewChainUsingIndex(listR + listRo)\n",
    "                if chain[-1] == n:\n",
    "                    return chain\n",
    "                findIndexForVector(listRo, q + 1)\n",
    "            findIndexForVector(listR)\n",
    "        lower += 1\n",
    "    return chain\n",
    "\n",
    "\n",
    "n = int(input(\"Enter N: \"))\n",
    "start = time.time()\n",
    "chain = splittingIndexVector(n)\n",
    "finish = time.time()\n",
    "print(\"Star addition chain:\", chain)\n",
    "print(\"Length of addition chain:\", len(chain))\n",
    "print(\"Total work time: \", float(finish - start), \"seconds\")"
   ]
  },
  {
   "cell_type": "markdown",
   "metadata": {},
   "source": [
    "| Значение n | Значение k | Длина цепочки алгоритма Брауэра | Время работы а. Брауэра   |Длина цепочки а. дробления  | Время работы а. дробления | Время работы бинарного метода | Время работы метода множителей |\n",
    "| :-: | :-: | :-: | :-: | :-: |  :-: | :-: | :-: |\n",
    "| 513 | 3 | 11 | 2.0976409912109375 | 11| 4.37620997428894 | 9.60826873779e-05 | 0.000133037567139 |\n",
    "| 600 | 2 | 13 |  2.388014078140259| 12 | 60.928571939468384| 0.000108957290649 | 9.70363616943e-05 |\n",
    "| 704 | 3 | 11 | 4.85647177696228 | 12 | 6.4909868240356445 | 6.91413879395e-05 | 0.000144004821777 |\n",
    "| 801 | 3 | 13 | 2.774775981903076 | 13 | 1083.378122806549 | 8.48770141602e-05 | 0.000138998031616 |\n"
   ]
  },
  {
   "cell_type": "markdown",
   "metadata": {},
   "source": [
    "#### Вывод: \n",
    "Алгоритм дробления вектора индексов оказался самым неэффективным по времени, и время поиска растет с увеличением параметра $n$. Однако по сравнению с алгоритмом Брауэра он дает результат, близкий к идеальному. Так же довольно эффективен метод множителей, он работает быстрее бинарного. Итак, \n",
    "* Метод дробления вектора индексов эффективен по результату, но не по времени\n",
    "* Метод Бауэра и метод множителей эффективны по времени, но не всегда по результату\n",
    "\n"
   ]
  },
  {
   "cell_type": "markdown",
   "metadata": {},
   "source": [
    "### Проверка следствия теоремы Брауэра"
   ]
  },
  {
   "cell_type": "code",
   "execution_count": 3,
   "metadata": {
    "scrolled": false
   },
   "outputs": [
    {
     "data": {
      "image/png": "[encoded data removed]",
      "text/plain": [
       "<Figure size 720x720 with 1 Axes>"
      ]
     },
     "metadata": {},
     "output_type": "display_data"
    }
   ],
   "source": [
    "import pylab as plt\n",
    "\n",
    "def minLengthChains(n):\n",
    "    lens = []\n",
    "    for i in range(2, n + 1):\n",
    "        q = factor(i)[0][0]\n",
    "        if n in [19, 43, 59, 83, 107, 149, 163, 165, 170, 179, 191, 205]:\n",
    "            sigma = 1\n",
    "        else:\n",
    "            sigma = 0\n",
    "        if q == i:\n",
    "            l.append(lens[-1] + 1 - sigma)\n",
    "        else:\n",
    "            l.append(min(lens[-1] + 1, lens[q - 1] + lens[i/q - 1]) - sigma)\n",
    "    return [i + 1 for i in range(i)], [i + 1 for i in lens]\n",
    "\n",
    "def approximate(x, y):\n",
    "    m = matrix([[sum([float((log(i))**2) for i in x]),\n",
    "                 sum([float(log(i)) for i in x])],\n",
    "                [sum([float(log(i)) for i in x]), len(x)]])\n",
    "    vector1 = vector([sum([float(y[i] * log(x[i])) for i in range(len(x))]), sum(y)])\n",
    "    answer = m.solve_right(vector1)\n",
    "    plt.plot(x, [answer[0] * log(i) + answer[1] for i in x])\n",
    "    \n",
    "plt.figure(figsize = (10, 10))\n",
    "x, y = minLengthChains(200)\n",
    "plt.scatter(x, y, color='r', marker='.')\n",
    "approximate(x, y)\n",
    "plt.show()"
   ]
  },
  {
   "cell_type": "markdown",
   "metadata": {},
   "source": [
    "#### Вывод: \n",
    "\n",
    "Как видно, аппроксимирующая прямая $l(n)$ схожа с графиком логарифма. Это подтвержает следствие теоремы Брауэра, поскольку в этом случае на бесконечности $\\lambda(n)$ и $l(n)$ будут эквивалентны."
   ]
  },
  {
   "cell_type": "markdown",
   "metadata": {},
   "source": [
    "### Проверка гипотезы Шольца-Брауэра  от 2 до 10\n",
    "$l ^ * (2 ^  n- 1) \\leq l ^ * (n) + n - 1$"
   ]
  },
  {
   "cell_type": "code",
   "execution_count": 23,
   "metadata": {},
   "outputs": [
    {
     "name": "stdout",
     "output_type": "stream",
     "text": [
      " \n"
     ]
    }
   ],
   "source": [
    "for i in range(2, 11):\n",
    "    a = len(splittingIndexVector(2 ** i -  1))\n",
    "    b = len(splittingIndexVector(i)) + i - 1\n",
    "    if (a <= b):\n",
    "        print(\"n = \", i, ':', a, \" <= \", b )\n",
    "    else:\n",
    "        print(\"n = \", i, ':', a, \" > \", b )"
   ]
  },
  {
   "cell_type": "markdown",
   "metadata": {},
   "source": [
    "('n = ', 2, ':', 3, ' <= ', 3)  \n",
    "('n = ', 3, ':', 5, ' <= ', 5)  \n",
    "('n = ', 4, ':', 6, ' <= ', 6)  \n",
    "('n = ', 5, ':', 8, ' <= ', 8)  \n",
    "('n = ', 6, ':', 9, ' <= ', 9)  \n",
    "('n = ', 7, ':', 11, ' <= ', 11)  \n",
    "('n = ', 8, ':', 11, ' <= ', 11)  \n",
    "('n = ', 9, ':', 13, ' <= ', 13)  \n",
    "('n = ', 10, ':', 14, ' <= ', 14)  "
   ]
  },
  {
   "cell_type": "markdown",
   "metadata": {},
   "source": [
    "| Значение n |$l ^ * (2 ^  n- 1)$ | $l ^ * (n) + n - 1$ |\n",
    "| :-: | :-: | :-: |\n",
    "|2 | 3 |  3| \n",
    "|3 | 5 | 5 | \n",
    "|4 | 6 | 6 | \n",
    "|5 | 8 | 8 |\n",
    "|6 | 9 | 9 | \n",
    "|7 | 11 | 11 | \n",
    "|8 | 11 | 11 | \n",
    "|9 | 13 | 13 |\n",
    "|10 | 14 | 14|"
   ]
  },
  {
   "cell_type": "markdown",
   "metadata": {},
   "source": [
    "Выводы:\n",
    "Гипотеза Шольца-Брауэра верна для $n \\leq 10$. Эта гипотеза позволяет найти аддитивную цепочку для $n= {2}^k-1$, где $k \\in N$ методом дробления вектора индексов быстрее, так как будет известная примерная длина цепоки. Но программа все равно работает ужасно медленно."
   ]
  },
  {
   "cell_type": "markdown",
   "metadata": {},
   "source": [
    "###  Выводы по работе"
   ]
  },
  {
   "cell_type": "markdown",
   "metadata": {},
   "source": [
    "В ходе выполнения практической работы были сформированы представления об аддитивных цепочках, получен навык использования систем компьютерной алгебры для реализации алгоритмов. Были реализованы и проанализированы следующие методы: \n",
    "* бинарный метод \n",
    "* метод множителей\n",
    "* метод Брауэра \n",
    "* метод дробления вектора индексов.   \n",
    "Исследование показало, что метод множителей в большинстве случаев проигрывает в скорости бинарному, а метод дробления вектора индексов дает более точный результат по сравнению с методом Брауэра, но работает НАМНОГО медленнее.\n",
    "Так же было проверено следствие 1 теоремы Брауэра $\\lim_{n \\to \\infty} \\frac{l(n)}{\\lambda(n)} = 1$ и гипотеза Шольца-Брауэра $l ^ * (2 ^  n- 1) \\leq l ^ * (n) + n - 1$ для $n$ от 1 до 10 на алгоритме дробления вектора индексов. И следствие, и гипотеза оказались верными."
   ]
  }
 ],
 "metadata": {
  "kernelspec": {
   "display_name": "SageMath 8.7",
   "language": "",
   "name": "sagemath"
  },
  "language_info": {
   "codemirror_mode": {
    "name": "ipython",
    "version": 2
   },
   "file_extension": ".py",
   "mimetype": "text/x-python",
   "name": "python",
   "nbconvert_exporter": "python",
   "pygments_lexer": "ipython2",
   "version": "2.7.15"
  }
 },
 "nbformat": 4,
 "nbformat_minor": 2
}
